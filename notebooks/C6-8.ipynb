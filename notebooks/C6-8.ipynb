{
 "cells": [
  {
   "attachments": {},
   "cell_type": "markdown",
   "metadata": {},
   "source": [
    "<b>C6. Développer le programme d’intelligence artificielle selon les données du projet et les éléments de conception définis, en exploitant les algorithmes et les outils standards couramment utilisés dans le domaine.\n",
    "\n",
    "\n",
    "C7. Développer l’interaction entre les fonctionnalités de l’application et l’intelligence artificielle dans le respect des objectifs visés et des bonnes pratiques du domaine.\n",
    "\n",
    "\n",
    "C8. Modifier les paramètres et composants de l’intelligence artificielle afin d’ajuster aux objectifs du projet les capacités fonctionnelles de l’algorithme à l’aide de techniques d’optimisation.</b>"
   ]
  },
  {
   "cell_type": "code",
   "execution_count": 1,
   "metadata": {},
   "outputs": [
    {
     "name": "stdout",
     "output_type": "stream",
     "text": [
      "Evaluating RMSE, MAE of algorithm SVD on 5 split(s).\n",
      "\n",
      "                  Fold 1  Fold 2  Fold 3  Fold 4  Fold 5  Mean    Std     \n",
      "RMSE (testset)    0.8748  0.8711  0.8700  0.8736  0.8764  0.8732  0.0024  \n",
      "MAE (testset)     0.6712  0.6689  0.6687  0.6736  0.6732  0.6711  0.0021  \n",
      "Fit time          0.43    0.43    0.43    0.43    0.43    0.43    0.00    \n",
      "Test time         0.04    0.04    0.04    0.07    0.07    0.05    0.01    \n",
      "Movie ID: 68954, Estimated rating: 5\n",
      "Movie ID: 57669, Estimated rating: 5\n",
      "Movie ID: 116797, Estimated rating: 5\n",
      "Movie ID: 177593, Estimated rating: 5\n",
      "Movie ID: 55820, Estimated rating: 5\n"
     ]
    }
   ],
   "source": [
    "import pandas as pd\n",
    "from surprise import Reader, Dataset, SVD\n",
    "from surprise.model_selection import cross_validate\n",
    "\n",
    "# Chargement des données\n",
    "reader = Reader()\n",
    "df_ratings = pd.read_csv('../data/ratings.csv')\n",
    "data = Dataset.load_from_df(df_ratings[['userId', 'movieId', 'rating']], reader)\n",
    "\n",
    "# Création et formation de l'algorithme SVD\n",
    "algo = SVD()\n",
    "cross_validate(algo, data, measures=['RMSE', 'MAE'], cv=5, verbose=True)\n",
    "trainset = data.build_full_trainset()\n",
    "algo.fit(trainset)\n",
    "\n",
    "def get_top_n_recommendations(user_id, n):\n",
    "    # Prédictions pour tous les films que l'utilisateur n'a pas encore vus\n",
    "    testset = [[user_id, iid, 4.] for iid in df_ratings['movieId'].unique() if not trainset.knows_item(iid)]\n",
    "    predictions = algo.test(testset)\n",
    "    \n",
    "    # Trie les prédictions par estimation de note et renvoie les n premières\n",
    "    top_n = sorted(predictions, key=lambda x: x.est, reverse=True)[:n]\n",
    "    \n",
    "    return top_n\n",
    "\n",
    "# Obtention des 5 meilleures recommandations pour l'utilisateur 1\n",
    "top_n = get_top_n_recommendations(1, 5)\n",
    "for pred in top_n:\n",
    "    print(f\"Movie ID: {pred.iid}, Estimated rating: {pred.est}\")\n"
   ]
  }
 ],
 "metadata": {
  "kernelspec": {
   "display_name": "Python 3",
   "language": "python",
   "name": "python3"
  },
  "language_info": {
   "codemirror_mode": {
    "name": "ipython",
    "version": 3
   },
   "file_extension": ".py",
   "mimetype": "text/x-python",
   "name": "python",
   "nbconvert_exporter": "python",
   "pygments_lexer": "ipython3",
   "version": "3.11.3"
  },
  "orig_nbformat": 4
 },
 "nbformat": 4,
 "nbformat_minor": 2
}
