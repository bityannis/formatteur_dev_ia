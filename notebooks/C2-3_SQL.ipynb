{
 "cells": [
  {
   "attachments": {},
   "cell_type": "markdown",
   "metadata": {},
   "source": [
    "<b>C2. Concevoir une base de données analytique avec l’approche orientée requêtes en vue de la mise à disposition des données pour un traitement analytique ou d’intelligence artificielle.</b> <br/>\n",
    "<b>C3. Programmer l’import de données initiales nécessaires au projet en base de données, afin de les rendre exploitables par un tiers, dans un langage de programmation adapté et à partir de la stratégie de nettoyage des données préalablement définie.</b>\n",
    "\n",
    "Le but est de \"Concevoir une base de données analytique avec l’approche orientée requêtes en vue de la mise à disposition des données pour un traitement analytique ou d’intelligence artificielle\".\n",
    "\n",
    "Nous importons les données depuis des fichiers CSV dans des dataframes pandas, puis nous insérons ces données dans une base de données SQLite. Nous verifions ensuite que les données ont été correctement insérées en exécutant des requêtes SQL pour récupérer les données et les afficher.\n",
    "\n",
    "Pour faire des requetes SQL sans utiliser le script python:\n",
    "\n",
    "```\n",
    "cd current_repo\n",
    "sqlite3 MovieLens.db\n",
    ".tables\n",
    "SELECT * FROM movies;\n",
    "SELECT COUNT (DISTINCT userId) FROM ratings;\n",
    "```"
   ]
  },
  {
   "cell_type": "code",
   "execution_count": null,
   "metadata": {},
   "outputs": [],
   "source": [
    "%pip install pysqlite3"
   ]
  },
  {
   "cell_type": "code",
   "execution_count": 10,
   "metadata": {},
   "outputs": [
    {
     "name": "stdout",
     "output_type": "stream",
     "text": [
      "   movieId                               title  \\\n",
      "0        1                    Toy Story (1995)   \n",
      "1        2                      Jumanji (1995)   \n",
      "2        3             Grumpier Old Men (1995)   \n",
      "3        4            Waiting to Exhale (1995)   \n",
      "4        5  Father of the Bride Part II (1995)   \n",
      "\n",
      "                                        genres  \n",
      "0  Adventure|Animation|Children|Comedy|Fantasy  \n",
      "1                   Adventure|Children|Fantasy  \n",
      "2                               Comedy|Romance  \n",
      "3                         Comedy|Drama|Romance  \n",
      "4                                       Comedy  \n",
      "   userId  movieId  rating\n",
      "0       1        1     4.0\n",
      "1       1        3     4.0\n",
      "2       1        6     4.0\n",
      "3       1       47     5.0\n",
      "4       1       50     5.0\n"
     ]
    }
   ],
   "source": [
    "import pandas as pd\n",
    "import sqlite3\n",
    "\n",
    "# Établir une connexion avec la base de données\n",
    "conn = sqlite3.connect('MovieLens.db')\n",
    "\n",
    "# Importer les données depuis les fichiers CSV vers des dataframes pandas\n",
    "df_movies = pd.read_csv('../data/movies.csv')\n",
    "df_ratings = pd.read_csv('../data/ratings.csv')\n",
    "df_ratings.drop('timestamp', axis=1, inplace=True)\n",
    "\n",
    "# Insérer les données des dataframes pandas dans la base de données SQLite\n",
    "df_movies.to_sql('movies', conn, if_exists='replace', index=False)\n",
    "df_ratings.to_sql('ratings', conn, if_exists='replace', index=False)\n",
    "\n",
    "# Vérifier que les données ont été importées correctement\n",
    "df_movies_test = pd.read_sql_query(\"SELECT * from movies\", conn)\n",
    "df_ratings_test = pd.read_sql_query(\"SELECT * from ratings\", conn)\n",
    "\n",
    "print(df_movies_test.head())\n",
    "print(df_ratings_test.head())\n"
   ]
  },
  {
   "cell_type": "code",
   "execution_count": 9,
   "metadata": {},
   "outputs": [
    {
     "name": "stdout",
     "output_type": "stream",
     "text": [
      "     userId  movieId  rating\n",
      "0         1        1     4.0\n",
      "1         5        1     4.0\n",
      "2         7        1     4.5\n",
      "3        15        1     2.5\n",
      "4        17        1     4.5\n",
      "..      ...      ...     ...\n",
      "210     606        1     2.5\n",
      "211     607        1     4.0\n",
      "212     608        1     2.5\n",
      "213     609        1     3.0\n",
      "214     610        1     5.0\n",
      "\n",
      "[215 rows x 3 columns]\n"
     ]
    }
   ],
   "source": [
    "# ID du film que vous voulez rechercher\n",
    "movie_id = 1  \n",
    "df_ratings_of_movie = pd.read_sql_query(f\"SELECT * from ratings WHERE movieId = {movie_id}\", conn)\n",
    "print(df_ratings_of_movie)"
   ]
  },
  {
   "attachments": {},
   "cell_type": "markdown",
   "metadata": {},
   "source": []
  }
 ],
 "metadata": {
  "kernelspec": {
   "display_name": "Python 3",
   "language": "python",
   "name": "python3"
  },
  "language_info": {
   "codemirror_mode": {
    "name": "ipython",
    "version": 3
   },
   "file_extension": ".py",
   "mimetype": "text/x-python",
   "name": "python",
   "nbconvert_exporter": "python",
   "pygments_lexer": "ipython3",
   "version": "3.11.3"
  },
  "orig_nbformat": 4
 },
 "nbformat": 4,
 "nbformat_minor": 2
}
