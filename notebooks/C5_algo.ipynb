{
 "cells": [
  {
   "attachments": {},
   "cell_type": "markdown",
   "metadata": {},
   "source": [
    "<b>C5. Concevoir le programme d’intelligence artificielle adapté aux données disponibles afin de répondre aux objectifs fonctionnels du projet, à l’aide des algorithmes, outils et méthodes standards, notamment de machine learning et de deep learning.</b><br>\n",
    "\n",
    "En reprenant l'exemple de MovieLens, supposons que nous souhaitons concevoir un système de recommandation de films. Les systèmes de recommandation sont des algorithmes d'apprentissage automatique utilisés pour suggérer des produits aux utilisateurs en fonction de leur intérêt ou de leur utilisation passée. Ils sont largement utilisés dans différents domaines de l'internet, notamment pour recommander des films, de la musique, des articles de presse, des produits à acheter, etc.\n",
    "\n",
    "Pour notre objectif, nous pourrions utiliser un algorithme de filtrage collaboratif, qui est une méthode couramment utilisée pour les systèmes de recommandation. Cette méthode fait des prédictions sur les intérêts d'un utilisateur en collectant des préférences de nombreux utilisateurs. L'idée sous-jacente est que si deux utilisateurs sont d'accord sur une question, ils sont susceptibles d'être d'accord sur d'autres questions.\n",
    "\n",
    "Pour cela, nous allons utiliser la bibliothèque Surprise, une bibliothèque Python pour créer et analyser les systèmes de recommandation.\n",
    "\n",
    "L'algorithme SVD (Singular Value Decomposition) est couramment utilisé dans la recommandation de films, principalement pour les systèmes de recommandation basés sur la factorisation de matrice. Il s'agit d'une technique de réduction de la dimensionnalité qui peut aider à minimiser l'erreur de prédiction lors de la prédiction de l'absence de notes dans les données utilisateur-item. L'idée principale de l'algorithme SVD est de décomposer la matrice d'origine en trois matrices distinctes et de travailler sur la matrice réduite, ce qui est plus facile à gérer.\n",
    "\n",
    "L'algorithme SVD est particulièrement approprié lorsque vous avez des données manquantes ou incomplètes. Il est également utile lorsque vous avez une grande quantité de données, car il peut aider à réduire la dimensionnalité de l'ensemble de données.\n",
    "\n",
    "Il existe d'autres algorithmes qui peuvent également être appropriés pour les systèmes de recommandation, en fonction de la nature spécifique de votre problème. Voici quelques exemples :\n",
    "\n",
    "K-nearest neighbors (KNN) : C'est un algorithme simple qui recommande des items similaires à ceux que l'utilisateur a aimés dans le passé. Il utilise la similarité entre les utilisateurs ou les items pour faire ses recommandations.\n",
    "\n",
    "Non-negative Matrix Factorization (NMF) : C'est une autre technique de factorisation de matrice qui peut être utilisée pour les systèmes de recommandation. Elle a l'avantage de ne jamais prédire une note négative, ce qui peut être utile dans certains contextes.\n",
    "\n",
    "Matrix Factorization (MF) : C'est une technique générale de factorisation de matrice qui peut être utilisée pour les systèmes de recommandation. Elle est plus flexible que l'SVD et peut être adaptée à diverses situations.\n",
    "\n",
    "Deep learning-based models : Avec l'évolution récente de l'IA, des modèles basés sur l'apprentissage profond, comme les auto-encodeurs, peuvent également être utilisés pour construire des systèmes de recommandation.\n",
    "\n",
    "Le choix de l'algorithme dépend de divers facteurs, tels que la nature de vos données, le temps de calcul disponible, la complexité du modèle que vous êtes prêt à gérer, et les performances que vous attendez de votre système de recommandation. Dans la plupart des cas, il peut être utile de tester plusieurs algorithmes et de choisir celui qui offre les meilleures performances sur votre ensemble de données spécifique."
   ]
  },
  {
   "cell_type": "code",
   "execution_count": null,
   "metadata": {},
   "outputs": [],
   "source": [
    "%pip install scikit-surprise"
   ]
  },
  {
   "cell_type": "code",
   "execution_count": 1,
   "metadata": {},
   "outputs": [
    {
     "name": "stdout",
     "output_type": "stream",
     "text": [
      "Evaluating RMSE, MAE of algorithm SVD on 5 split(s).\n",
      "\n",
      "                  Fold 1  Fold 2  Fold 3  Fold 4  Fold 5  Mean    Std     \n",
      "RMSE (testset)    0.8728  0.8724  0.8833  0.8668  0.8699  0.8730  0.0056  \n",
      "MAE (testset)     0.6713  0.6670  0.6774  0.6672  0.6692  0.6704  0.0038  \n",
      "Fit time          0.43    0.44    0.43    0.43    0.43    0.43    0.00    \n",
      "Test time         0.04    0.04    0.07    0.07    0.07    0.06    0.01    \n",
      "\n",
      "========== PREDICTION DE LA NOTE DE L'USER 1 SUR LE FILM 302 ==========\n",
      "\n",
      "user: 1          item: 302        r_ui = None   est = 3.50   {'was_impossible': False}\n"
     ]
    }
   ],
   "source": [
    "import pandas as pd\n",
    "from surprise import Reader, Dataset, SVD\n",
    "from surprise.model_selection import cross_validate\n",
    "import sqlite3\n",
    "\n",
    "# Établir une connexion avec la base de données SQLite\n",
    "conn = sqlite3.connect('MovieLens.db')\n",
    "\n",
    "# Utiliser une requête SQL pour extraire les données\n",
    "df_ratings = pd.read_sql_query(\"SELECT * from ratings\", conn)\n",
    "\n",
    "# Fermer la connexion avec la base de données\n",
    "conn.close()\n",
    "\n",
    "# Ensuite, vous pouvez continuer avec le reste de votre code\n",
    "reader = Reader()\n",
    "data = Dataset.load_from_df(df_ratings[['userId', 'movieId', 'rating']], reader)\n",
    "\n",
    "algo = SVD()\n",
    "cross_validate(algo, data, measures=['RMSE', 'MAE'], cv=5, verbose=True)\n",
    "\n",
    "# Former l'algorithme sur l'ensemble de l'ensemble de données\n",
    "trainset = data.build_full_trainset()\n",
    "algo.fit(trainset)\n",
    "\n",
    "# Prédire la note qu'un utilisateur (par exemple, l'utilisateur 1) donnerait à un film (par exemple, le film 302)\n",
    "uid = str(1)  # ID de l'utilisateur\n",
    "iid = str(302)  # ID de l'élément (film)\n",
    "\n",
    "# La fonction predict retourne une estimation de la note que l'utilisateur uid donnerait à l'élément iid.\n",
    "print(f\"\\n========== PREDICTION DE LA NOTE DE L'USER {uid} SUR LE FILM {iid} ==========\\n\")\n",
    "pred = algo.predict(uid, iid, verbose=True)\n"
   ]
  }
 ],
 "metadata": {
  "kernelspec": {
   "display_name": "Python 3",
   "language": "python",
   "name": "python3"
  },
  "language_info": {
   "codemirror_mode": {
    "name": "ipython",
    "version": 3
   },
   "file_extension": ".py",
   "mimetype": "text/x-python",
   "name": "python",
   "nbconvert_exporter": "python",
   "pygments_lexer": "ipython3",
   "version": "3.11.3"
  },
  "orig_nbformat": 4
 },
 "nbformat": 4,
 "nbformat_minor": 2
}
