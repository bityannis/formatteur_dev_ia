{
 "cells": [
  {
   "attachments": {},
   "cell_type": "markdown",
   "metadata": {},
   "source": [
    "<b>C4. Préparer les données disponibles depuis la base de données analytiques en vue de leur utilisation par les algorithmes d’intelligence artificielle.</b><br>\n",
    "\n",
    "Ici, nous allons préparer les données pour une tâche de recommandation de films. Nous allons supposer que nous voulons prédire le score de \"rating\" que chaque utilisateur attribuerait à chaque film."
   ]
  },
  {
   "cell_type": "code",
   "execution_count": 3,
   "metadata": {},
   "outputs": [
    {
     "name": "stdout",
     "output_type": "stream",
     "text": [
      "        userId  movieId\n",
      "0            1        1\n",
      "1            1        3\n",
      "2            1        6\n",
      "3            1       47\n",
      "4            1       50\n",
      "...        ...      ...\n",
      "100831     610   166534\n",
      "100832     610   168248\n",
      "100833     610   168250\n",
      "100834     610   168252\n",
      "100835     610   170875\n",
      "\n",
      "[100836 rows x 2 columns]\n",
      "0         4.0\n",
      "1         4.0\n",
      "2         4.0\n",
      "3         5.0\n",
      "4         5.0\n",
      "         ... \n",
      "100831    4.0\n",
      "100832    5.0\n",
      "100833    5.0\n",
      "100834    5.0\n",
      "100835    3.0\n",
      "Name: rating, Length: 100836, dtype: float64\n"
     ]
    }
   ],
   "source": [
    "import pandas as pd\n",
    "import sqlite3\n",
    "\n",
    "# Connect to the SQLite database\n",
    "conn = sqlite3.connect('MovieLens.db')\n",
    "\n",
    "# Load the ratings data\n",
    "ratings = pd.read_sql_query(\"SELECT * from ratings\", conn)\n",
    "\n",
    "# Let's suppose we want to use user ID and movie ID as input features, and rating as the target variable\n",
    "# The user ID and movie ID are already in numeric format, so we don't need to transform them\n",
    "# The rating is also already in a suitable format\n",
    "X = ratings[['userId', 'movieId']]\n",
    "y = ratings['rating']\n",
    "\n",
    "# Here, X is the input data and y is the output data\n",
    "# X and y can now be used to train a machine learning model\n",
    "print(X)\n",
    "print(y)"
   ]
  }
 ],
 "metadata": {
  "kernelspec": {
   "display_name": "Python 3",
   "language": "python",
   "name": "python3"
  },
  "language_info": {
   "codemirror_mode": {
    "name": "ipython",
    "version": 3
   },
   "file_extension": ".py",
   "mimetype": "text/x-python",
   "name": "python",
   "nbconvert_exporter": "python",
   "pygments_lexer": "ipython3",
   "version": "3.11.3"
  },
  "orig_nbformat": 4
 },
 "nbformat": 4,
 "nbformat_minor": 2
}
